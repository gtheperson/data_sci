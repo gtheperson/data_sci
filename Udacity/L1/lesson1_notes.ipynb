{
 "cells": [
  {
   "cell_type": "markdown",
   "metadata": {},
   "source": [
    "# Notes on Lesson 1:"
   ]
  },
  {
   "cell_type": "markdown",
   "metadata": {},
   "source": [
    "*CVS* files are comma seperated values. These are like a simple way of storing a spreadsheet.\n",
    "\n",
    "In [python](https://docs.python.org/2/library/csv.html) we can read and write them using the `cvs` module, or with Anaconda the `unicodecvs` module.\n",
    "\n",
    "It comes with objects such as `reader` and `writer` as well as their dictionary equivalents `DictReader` etc.\n",
    "\n",
    "We need to give certain parameters when we open a file, such a 'rb'. With also use `with... as...` as this makes the code simpler.\n",
    "\n",
    "The reader object is an [iterator](https://www.codementor.io/sheena/python-generators-and-iterators-du1082iua) so it can only be looped over once.\n",
    "\n",
    "A simple well of adding the returned row strings form a CVS file to a list is to simply use `list(reader)`.\n",
    "\n",
    "Example code follows:"
   ]
  },
  {
   "cell_type": "markdown",
   "metadata": {},
   "source": [
    "```\n",
    "import unicodecsv\n",
    "\n",
    "with open('my_cvs.cvs', 'rb') as file: # opens file and names it\n",
    "    reader = unicodecvs.DictReader(file) #reads the file as a dict, useful when you have column headers\n",
    "    my_data = list(reader) #iterates over the reader dict and adds each row to a list\n",
    "    ```"
   ]
  },
  {
   "cell_type": "markdown",
   "metadata": {},
   "source": [
    "Here is my attempt at writing a file reading funtion:"
   ]
  },
  {
   "cell_type": "code",
   "execution_count": 6,
   "metadata": {},
   "outputs": [
    {
     "name": "stdout",
     "output_type": "stream",
     "text": [
      "{u'lesson_key': u'3176718735', u'processing_state': u'EVALUATED', u'account_key': u'256', u'assigned_rating': u'UNGRADED', u'completion_date': u'2015-01-16', u'creation_date': u'2015-01-14'}\n"
     ]
    }
   ],
   "source": [
    "import unicodecsv\n",
    "\n",
    "def read_csv(f):\n",
    "    with open(f, 'rb') as my_file: #don't forget the open() part like I kept doing!\n",
    "        reader = unicodecsv.DictReader(my_file)\n",
    "        return list(reader)\n",
    "    \n",
    "project_submissions = read_csv('project_submissions.csv')\n",
    "print(project_submissions[0])"
   ]
  }
 ],
 "metadata": {
  "kernelspec": {
   "display_name": "Python [conda env:my_env]",
   "language": "python",
   "name": "conda-env-my_env-py"
  },
  "language_info": {
   "codemirror_mode": {
    "name": "ipython",
    "version": 2
   },
   "file_extension": ".py",
   "mimetype": "text/x-python",
   "name": "python",
   "nbconvert_exporter": "python",
   "pygments_lexer": "ipython2",
   "version": "2.7.14"
  }
 },
 "nbformat": 4,
 "nbformat_minor": 2
}
